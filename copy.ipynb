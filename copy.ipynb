{
 "cells": [
  {
   "cell_type": "code",
   "execution_count": null,
   "metadata": {},
   "outputs": [],
   "source": [
    "default_parameters = model_xgb.get_params()"
   ]
  },
  {
   "cell_type": "code",
   "execution_count": null,
   "metadata": {},
   "outputs": [],
   "source": [
    "# expliticity fit the model with the default parameters\n",
    "xgb_model_explicit = XGBClassifier(**default_parameters)\n",
    "model_xgb.fit(X_train_vec, y_encoded_train)\n",
    "pred_xgb = model_xgb.predict(X_test_vec)\n",
    "result_xgb = accuracy_score(y_encoded_test, pred_xgb)\n",
    "print(\"XGBoost Accuracy:\", result_xgb)"
   ]
  },
  {
   "cell_type": "code",
   "execution_count": null,
   "metadata": {},
   "outputs": [],
   "source": [
    "xgb_model_linear = XGBClassifier(booster='gblinear')\n",
    "xgb_model_linear.fit(X_train_vec, y_encoded_train)\n",
    "# predictions\n",
    "pred_xgb_dart = xgb_model_linear.predict(X_test_vec)\n",
    "result_xgb_dart = accuracy_score(y_encoded_test, pred_xgb_dart)\n",
    "print(\"XGBoost Accuracy:\", result_xgb_dart)"
   ]
  },
  {
   "cell_type": "code",
   "execution_count": null,
   "metadata": {},
   "outputs": [],
   "source": [
    "from sklearn.model_selection import GridSearchCV\n",
    "# grid search for XGBoost\n",
    "grid = dict()\n",
    "grid['eta'] = [0.01, 0.05, 0.075, 0.1, 0.11, 0.15, 0.2]\n",
    "# define the grid search\n",
    "search = GridSearchCV(XGBClassifier(booster = 'gblinear'), grid, scoring='accuracy', cv=5, n_jobs=-1)\n",
    "# perform the search\n",
    "results = search.fit(X_train_vec, y_encoded_train)\n",
    "# summarize\n",
    "print('Mean Accuracy: %.3f' % results.best_score_)\n",
    "print('Config: %s' % results.best_params_)"
   ]
  },
  {
   "cell_type": "code",
   "execution_count": null,
   "metadata": {},
   "outputs": [],
   "source": [
    "grid = dict()\n",
    "grid['booster'] = ['gblinear']\n",
    "grid['eta'] = [0.05, 0.1, 0.2, 0.3]\n",
    "# grid['n_estimators'] = [100, 200, 300]\n",
    "grid['max_depth'] = [5, 6, 7]\n",
    "grid['min_child_weight'] = [1, 3, 5]\n",
    "grid['subsample'] = [0.8, 0.9, 1.0]\n",
    "grid['colsample_bytree'] = [0.8, 0.9, 1.0]\n",
    "# define the grid search\n",
    "search = GridSearchCV(XGBClassifier(), grid, scoring='accuracy', cv=2, n_jobs=-1)\n",
    "results = search.fit(X_train_vec, y_encoded_train)\n",
    "# summarize\n",
    "print(f'Mean Accuracy: {results.best_score_}')"
   ]
  },
  {
   "cell_type": "code",
   "execution_count": null,
   "metadata": {},
   "outputs": [],
   "source": [
    "# hyper-paramter tuning\n",
    "# max_depth (maximum depth of tree) hyperparameter tuning\n",
    "# eta (learning rate) hyperparameter tuning\n",
    "# objective (objective function) hyperparameter tuning\n",
    "# num_class (number of classes) hyperparameter tuning\n",
    "from sklearn.model_selection import GridSearchCV\n",
    "# create grid\n",
    "grid = dict()\n",
    "grid['max_depth'] = [2, 4, 6]\n",
    "grid['eta'] = [0.1, 0.2, 0.3]\n",
    "grid['objective'] = ['multi:softprob']\n",
    "grid['num_class'] = [df['category'].nunique()]\n",
    "# define the grid search\n",
    "search = GridSearchCV(XGBClassifier(), grid, scoring='accuracy', cv=2, n_jobs=-1)\n",
    "# perform the search\n",
    "results = search.fit(X_train_vec, y_encoded_train)\n",
    "# summarize\n",
    "print('Mean Accuracy: %.3f' % results.best_score_)\n",
    "print('Config: %s' % results.best_params_)"
   ]
  },
  {
   "cell_type": "code",
   "execution_count": null,
   "metadata": {},
   "outputs": [],
   "source": [
    "from sklearn.model_selection import GridSearchCV\n",
    "\n",
    "param_grid = {\n",
    "    'learning_rate': [0.1, 0.01],\n",
    "    'n_estimators': [100, 200, 300],\n",
    "    'max_depth': [3, 5, 7],\n",
    "    'min_child_weight': [1, 3, 5],\n",
    "    'subsample': [0.8, 0.9, 1.0],\n",
    "    'colsample_bytree': [0.8, 0.9, 1.0]\n",
    "}\n",
    "\n",
    "grid_search = GridSearchCV(estimator=XGBClassifier(), param_grid=param_grid, cv=3, scoring='accuracy')\n",
    "grid_search.fit(X_train, y_train)\n",
    "\n",
    "best_params = grid_search.best_params_\n",
    "best_model = grid_search.best_estimator_\n"
   ]
  }
 ],
 "metadata": {
  "language_info": {
   "name": "python"
  }
 },
 "nbformat": 4,
 "nbformat_minor": 2
}
