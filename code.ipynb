{
 "cells": [
  {
   "cell_type": "code",
   "execution_count": 1,
   "metadata": {},
   "outputs": [],
   "source": [
    "# Import required libraries\n",
    "import numpy as np\n",
    "import pandas as pd\n",
    "import json\n",
    "from sklearn.model_selection import train_test_split\n",
    "from sklearn.feature_extraction.text import TfidfVectorizer\n",
    "from sklearn.linear_model import LogisticRegression\n",
    "from sklearn.metrics import accuracy_score, classification_report\n",
    "import stanza\n",
    "import re\n",
    "import matplotlib.pyplot as plt"
   ]
  },
  {
   "cell_type": "code",
   "execution_count": 2,
   "metadata": {},
   "outputs": [
    {
     "data": {
      "application/vnd.jupyter.widget-view+json": {
       "model_id": "9af040f5e3864ccba1fffc3343e1e755",
       "version_major": 2,
       "version_minor": 0
      },
      "text/plain": [
       "Downloading https://raw.githubusercontent.com/stanfordnlp/stanza-resources/main/resources_1.7.0.json:   0%|   …"
      ]
     },
     "metadata": {},
     "output_type": "display_data"
    },
    {
     "name": "stderr",
     "output_type": "stream",
     "text": [
      "2024-01-03 18:50:25 INFO: Downloading default packages for language: en (English) ...\n",
      "2024-01-03 18:50:26 INFO: File exists: C:\\Users\\benjo\\stanza_resources\\en\\default.zip\n",
      "2024-01-03 18:50:32 INFO: Finished downloading models and saved to C:\\Users\\benjo\\stanza_resources.\n"
     ]
    }
   ],
   "source": [
    "stanza.download('en') # download English model"
   ]
  },
  {
   "cell_type": "markdown",
   "metadata": {},
   "source": [
    "# Load Data"
   ]
  },
  {
   "cell_type": "code",
   "execution_count": 3,
   "metadata": {},
   "outputs": [],
   "source": [
    "with open('Data/News_Category_Dataset_IS_course.json') as f:\n",
    "    lines = f.readlines()\n"
   ]
  },
  {
   "cell_type": "code",
   "execution_count": 4,
   "metadata": {},
   "outputs": [],
   "source": [
    "lines = [json.loads(line) for line in lines]"
   ]
  },
  {
   "cell_type": "code",
   "execution_count": 5,
   "metadata": {},
   "outputs": [
    {
     "data": {
      "text/plain": [
       "[{'link': 'https://www.huffpost.com/entry/funniest-parenting-tweets_l_632d7d15e4b0d12b5403e479',\n",
       "  'headline': 'The Funniest Tweets From Parents This Week (Sept. 17-23)',\n",
       "  'category': 'PARENTING',\n",
       "  'short_description': '\"Accidentally put grown-up toothpaste on my toddler’s toothbrush and he screamed like I was cleaning his teeth with a Carolina Reaper dipped in Tabasco sauce.\"',\n",
       "  'authors': 'Caroline Bologna',\n",
       "  'date': 1663891200000},\n",
       " {'link': 'https://www.huffpost.com/entry/dodgers-baseball-obit-wills_n_6329feb3e4b07198f0134500',\n",
       "  'headline': 'Maury Wills, Base-Stealing Shortstop For Dodgers, Dies At 89',\n",
       "  'category': 'SPORTS',\n",
       "  'short_description': 'Maury Wills, who helped the Los Angeles Dodgers win three World Series titles with his base-stealing prowess, has died.',\n",
       "  'authors': 'Beth Harris, AP',\n",
       "  'date': 1663632000000},\n",
       " {'link': 'https://www.huffpost.com/entry/golden-globes-return-nbc_n_6329f151e4b0ed991abda7f3',\n",
       "  'headline': 'Golden Globes Returning To NBC In January After Year Off-Air',\n",
       "  'category': 'ENTERTAINMENT',\n",
       "  'short_description': 'For the past 18 months, Hollywood has effectively boycotted the Globes after reports that the HFPA’s 87 members of non-American journalists included no Black members.',\n",
       "  'authors': '',\n",
       "  'date': 1663632000000},\n",
       " {'link': 'https://www.huffpost.com/entry/biden-us-forces-defend-taiwan-against-china_n_6327ec68e4b0ed021dfe3695',\n",
       "  'headline': 'Biden Says U.S. Forces Would Defend Taiwan If China Invaded',\n",
       "  'category': 'POLITICS',\n",
       "  'short_description': 'President issues vow as tensions with China rise.',\n",
       "  'authors': '',\n",
       "  'date': 1663545600000}]"
      ]
     },
     "execution_count": 5,
     "metadata": {},
     "output_type": "execute_result"
    }
   ],
   "source": [
    "lines[1:5]"
   ]
  },
  {
   "cell_type": "code",
   "execution_count": 6,
   "metadata": {},
   "outputs": [],
   "source": [
    "# convert to pandas dataframe\n",
    "df = pd.DataFrame(lines)"
   ]
  },
  {
   "cell_type": "code",
   "execution_count": 7,
   "metadata": {},
   "outputs": [
    {
     "data": {
      "text/plain": [
       "(148122, 6)"
      ]
     },
     "execution_count": 7,
     "metadata": {},
     "output_type": "execute_result"
    }
   ],
   "source": [
    "df.shape"
   ]
  },
  {
   "cell_type": "code",
   "execution_count": 8,
   "metadata": {},
   "outputs": [],
   "source": [
    "# sort out datatypes\n",
    "# date\n",
    "df['date'] = pd.to_datetime(df['date'])\n",
    "# headline\n",
    "df['headline'] = df['headline'].astype(str)\n",
    "# authors\n",
    "df['authors'] = df['authors'].astype(str)\n",
    "# link\n",
    "df['link'] = df['link'].astype(str)\n",
    "# short_description\n",
    "df['short_description'] = df['short_description'].astype(str)\n",
    "# category as a category\n",
    "df['category'] = df['category'].astype('category')"
   ]
  },
  {
   "cell_type": "code",
   "execution_count": 9,
   "metadata": {},
   "outputs": [
    {
     "name": "stderr",
     "output_type": "stream",
     "text": [
      "C:\\Users\\benjo\\AppData\\Local\\Temp\\ipykernel_2060\\114677802.py:4: FutureWarning: Treating datetime data as categorical rather than numeric in `.describe` is deprecated and will be removed in a future version of pandas. Specify `datetime_is_numeric=True` to silence this warning and adopt the future behavior now.\n",
      "  df['day'].describe()\n"
     ]
    },
    {
     "data": {
      "text/plain": [
       "count                  148122\n",
       "unique                      1\n",
       "top       1970-01-01 00:00:00\n",
       "freq                   148122\n",
       "first     1970-01-01 00:00:00\n",
       "last      1970-01-01 00:00:00\n",
       "Name: day, dtype: object"
      ]
     },
     "execution_count": 9,
     "metadata": {},
     "output_type": "execute_result"
    }
   ],
   "source": [
    "# round date to nearest day\n",
    "df['day'] = df['date'].dt.floor('d')\n",
    "# huh only one unique date\n",
    "df['day'].describe()"
   ]
  },
  {
   "cell_type": "code",
   "execution_count": 10,
   "metadata": {},
   "outputs": [
    {
     "name": "stderr",
     "output_type": "stream",
     "text": [
      "C:\\Users\\benjo\\AppData\\Local\\Temp\\ipykernel_2060\\801468514.py:1: FutureWarning: Treating datetime data as categorical rather than numeric in `.describe` is deprecated and will be removed in a future version of pandas. Specify `datetime_is_numeric=True` to silence this warning and adopt the future behavior now.\n",
      "  df['date'].describe()\n"
     ]
    },
    {
     "data": {
      "text/plain": [
       "count                         148122\n",
       "unique                          3618\n",
       "top       1970-01-01 00:23:35.145600\n",
       "freq                              98\n",
       "first     1970-01-01 00:22:07.708800\n",
       "last      1970-01-01 00:27:43.891200\n",
       "Name: date, dtype: object"
      ]
     },
     "execution_count": 10,
     "metadata": {},
     "output_type": "execute_result"
    }
   ],
   "source": [
    "df['date'].describe()"
   ]
  },
  {
   "cell_type": "code",
   "execution_count": 11,
   "metadata": {},
   "outputs": [],
   "source": [
    "# turn date into time as all the same day\n",
    "df['time'] = df['date'].dt.time"
   ]
  },
  {
   "cell_type": "code",
   "execution_count": 12,
   "metadata": {},
   "outputs": [
    {
     "data": {
      "text/plain": [
       "count              148122\n",
       "unique               3618\n",
       "top       00:23:35.145600\n",
       "freq                   98\n",
       "Name: time, dtype: object"
      ]
     },
     "execution_count": 12,
     "metadata": {},
     "output_type": "execute_result"
    }
   ],
   "source": [
    "df['time'].describe()"
   ]
  },
  {
   "cell_type": "markdown",
   "metadata": {},
   "source": [
    "# Exploratory Data Analysis"
   ]
  },
  {
   "cell_type": "code",
   "execution_count": 13,
   "metadata": {},
   "outputs": [
    {
     "name": "stdout",
     "output_type": "stream",
     "text": [
      "<class 'pandas.core.frame.DataFrame'>\n",
      "RangeIndex: 148122 entries, 0 to 148121\n",
      "Data columns (total 8 columns):\n",
      " #   Column             Non-Null Count   Dtype         \n",
      "---  ------             --------------   -----         \n",
      " 0   link               148122 non-null  object        \n",
      " 1   headline           148122 non-null  object        \n",
      " 2   category           148122 non-null  category      \n",
      " 3   short_description  148122 non-null  object        \n",
      " 4   authors            148122 non-null  object        \n",
      " 5   date               148122 non-null  datetime64[ns]\n",
      " 6   day                148122 non-null  datetime64[ns]\n",
      " 7   time               148122 non-null  object        \n",
      "dtypes: category(1), datetime64[ns](2), object(5)\n",
      "memory usage: 8.1+ MB\n"
     ]
    }
   ],
   "source": [
    "df.info()"
   ]
  },
  {
   "cell_type": "markdown",
   "metadata": {},
   "source": [
    "## Missing values"
   ]
  },
  {
   "cell_type": "code",
   "execution_count": 14,
   "metadata": {},
   "outputs": [
    {
     "data": {
      "text/plain": [
       "link                 0\n",
       "headline             0\n",
       "category             0\n",
       "short_description    0\n",
       "authors              0\n",
       "date                 0\n",
       "day                  0\n",
       "time                 0\n",
       "dtype: int64"
      ]
     },
     "execution_count": 14,
     "metadata": {},
     "output_type": "execute_result"
    }
   ],
   "source": [
    "# check for nas\n",
    "df.isna().sum()"
   ]
  },
  {
   "cell_type": "code",
   "execution_count": 15,
   "metadata": {},
   "outputs": [
    {
     "data": {
      "text/plain": [
       "link                 0\n",
       "headline             0\n",
       "category             0\n",
       "short_description    0\n",
       "authors              0\n",
       "date                 0\n",
       "day                  0\n",
       "time                 0\n",
       "dtype: int64"
      ]
     },
     "execution_count": 15,
     "metadata": {},
     "output_type": "execute_result"
    }
   ],
   "source": [
    "# check for NULLs\n",
    "df.isnull().sum()"
   ]
  },
  {
   "cell_type": "code",
   "execution_count": 16,
   "metadata": {},
   "outputs": [
    {
     "data": {
      "text/plain": [
       "link                     0\n",
       "headline                 3\n",
       "category                 0\n",
       "short_description    11448\n",
       "authors              24416\n",
       "date                     0\n",
       "day                      0\n",
       "time                     0\n",
       "dtype: int64"
      ]
     },
     "execution_count": 16,
     "metadata": {},
     "output_type": "execute_result"
    }
   ],
   "source": [
    "# look for empty strings across all columns\n",
    "(df == '').sum()"
   ]
  },
  {
   "cell_type": "code",
   "execution_count": 17,
   "metadata": {},
   "outputs": [
    {
     "data": {
      "text/plain": [
       "link                  0.000000\n",
       "headline              0.002025\n",
       "category              0.000000\n",
       "short_description     7.728764\n",
       "authors              16.483709\n",
       "date                  0.000000\n",
       "day                   0.000000\n",
       "time                  0.000000\n",
       "dtype: float64"
      ]
     },
     "execution_count": 17,
     "metadata": {},
     "output_type": "execute_result"
    }
   ],
   "source": [
    "((df == '').sum()  / df.shape[0]) * 100"
   ]
  },
  {
   "cell_type": "code",
   "execution_count": 18,
   "metadata": {},
   "outputs": [
    {
     "name": "stdout",
     "output_type": "stream",
     "text": [
      "0\n",
      "2245\n"
     ]
    }
   ],
   "source": [
    "print(df[(df['authors'] == '') & (df['short_description'] == '') & (df['headline'] == '')].shape[0])\n",
    "print(df[(df['authors'] == '') & (df['short_description'] == '')].shape[0])\n"
   ]
  },
  {
   "cell_type": "code",
   "execution_count": 19,
   "metadata": {},
   "outputs": [
    {
     "data": {
      "text/html": [
       "<div>\n",
       "<style scoped>\n",
       "    .dataframe tbody tr th:only-of-type {\n",
       "        vertical-align: middle;\n",
       "    }\n",
       "\n",
       "    .dataframe tbody tr th {\n",
       "        vertical-align: top;\n",
       "    }\n",
       "\n",
       "    .dataframe thead th {\n",
       "        text-align: right;\n",
       "    }\n",
       "</style>\n",
       "<table border=\"1\" class=\"dataframe\">\n",
       "  <thead>\n",
       "    <tr style=\"text-align: right;\">\n",
       "      <th></th>\n",
       "      <th>link</th>\n",
       "      <th>headline</th>\n",
       "      <th>category</th>\n",
       "      <th>short_description</th>\n",
       "      <th>authors</th>\n",
       "      <th>date</th>\n",
       "      <th>day</th>\n",
       "      <th>time</th>\n",
       "    </tr>\n",
       "  </thead>\n",
       "  <tbody>\n",
       "    <tr>\n",
       "      <th>62046</th>\n",
       "      <td>https://www.huffingtonpost.com/entry/lincoln-2...</td>\n",
       "      <td></td>\n",
       "      <td>POLITICS</td>\n",
       "      <td></td>\n",
       "      <td>Robert Moran, ContributorRobert Moran leads Br...</td>\n",
       "      <td>1970-01-01 00:24:00.201600</td>\n",
       "      <td>1970-01-01</td>\n",
       "      <td>00:24:00.201600</td>\n",
       "    </tr>\n",
       "    <tr>\n",
       "      <th>72619</th>\n",
       "      <td>https://www.huffingtonpost.com/entry/disney-ce...</td>\n",
       "      <td></td>\n",
       "      <td>BUSINESS</td>\n",
       "      <td></td>\n",
       "      <td>Gary Snyder, ContributorWriter and Media Strat...</td>\n",
       "      <td>1970-01-01 00:23:42.144000</td>\n",
       "      <td>1970-01-01</td>\n",
       "      <td>00:23:42.144000</td>\n",
       "    </tr>\n",
       "    <tr>\n",
       "      <th>80016</th>\n",
       "      <td>https://www.huffingtonpost.com/entry/beverly-h...</td>\n",
       "      <td></td>\n",
       "      <td>QUEER VOICES</td>\n",
       "      <td></td>\n",
       "      <td>Gary Snyder, ContributorWriter and Media Strat...</td>\n",
       "      <td>1970-01-01 00:23:29.184000</td>\n",
       "      <td>1970-01-01</td>\n",
       "      <td>00:23:29.184000</td>\n",
       "    </tr>\n",
       "  </tbody>\n",
       "</table>\n",
       "</div>"
      ],
      "text/plain": [
       "                                                    link headline  \\\n",
       "62046  https://www.huffingtonpost.com/entry/lincoln-2...            \n",
       "72619  https://www.huffingtonpost.com/entry/disney-ce...            \n",
       "80016  https://www.huffingtonpost.com/entry/beverly-h...            \n",
       "\n",
       "           category short_description  \\\n",
       "62046      POLITICS                     \n",
       "72619      BUSINESS                     \n",
       "80016  QUEER VOICES                     \n",
       "\n",
       "                                                 authors  \\\n",
       "62046  Robert Moran, ContributorRobert Moran leads Br...   \n",
       "72619  Gary Snyder, ContributorWriter and Media Strat...   \n",
       "80016  Gary Snyder, ContributorWriter and Media Strat...   \n",
       "\n",
       "                            date        day             time  \n",
       "62046 1970-01-01 00:24:00.201600 1970-01-01  00:24:00.201600  \n",
       "72619 1970-01-01 00:23:42.144000 1970-01-01  00:23:42.144000  \n",
       "80016 1970-01-01 00:23:29.184000 1970-01-01  00:23:29.184000  "
      ]
     },
     "execution_count": 19,
     "metadata": {},
     "output_type": "execute_result"
    }
   ],
   "source": [
    "df[df['headline'] == '']"
   ]
  },
  {
   "cell_type": "code",
   "execution_count": 20,
   "metadata": {},
   "outputs": [],
   "source": [
    "# remove observations with headline as empty string\n",
    "df = df[df['headline'] != '']\n",
    "# TODO: should we remove short_description as well if empty?\n",
    "# df = df[df['short_description'] != '']\n",
    "# TODO: what about authors?\n",
    "# df = df[df['authors'] != '']"
   ]
  },
  {
   "cell_type": "code",
   "execution_count": 21,
   "metadata": {},
   "outputs": [],
   "source": [
    "# TODO: for now I will just remove all observations with empty strings (missing values)\n",
    "df = df[(df != '').all(1)]"
   ]
  },
  {
   "cell_type": "markdown",
   "metadata": {},
   "source": [
    "Insights:\n",
    "- There is missingness\n",
    "- Mostly in Short description and Author (and sometimes both are missing)\n",
    "- Only in 3 observations is there no headline and in all cases there is no short-description"
   ]
  },
  {
   "cell_type": "markdown",
   "metadata": {},
   "source": [
    "### Category"
   ]
  },
  {
   "cell_type": "code",
   "execution_count": 22,
   "metadata": {},
   "outputs": [
    {
     "data": {
      "text/plain": [
       "POLITICS          29693\n",
       "ENTERTAINMENT     13476\n",
       "WELLNESS          12944\n",
       "TRAVEL             8027\n",
       "STYLE & BEAUTY     7275\n",
       "PARENTING          6520\n",
       "HEALTHY LIVING     5079\n",
       "QUEER VOICES       4705\n",
       "FOOD & DRINK       4527\n",
       "BUSINESS           4376\n",
       "COMEDY             3938\n",
       "SPORTS             3612\n",
       "HOME & LIVING      3523\n",
       "PARENTS            3492\n",
       "BLACK VOICES       3316\n",
       "Name: category, dtype: int64"
      ]
     },
     "execution_count": 22,
     "metadata": {},
     "output_type": "execute_result"
    }
   ],
   "source": [
    "df['category'].value_counts()"
   ]
  },
  {
   "cell_type": "code",
   "execution_count": 23,
   "metadata": {},
   "outputs": [
    {
     "data": {
      "text/plain": [
       "Text(0.5, 1.0, 'Category Distribution')"
      ]
     },
     "execution_count": 23,
     "metadata": {},
     "output_type": "execute_result"
    },
    {
     "data": {
      "image/png": "[encoded data removed]",
      "text/plain": [
       "<Figure size 640x480 with 1 Axes>"
      ]
     },
     "metadata": {},
     "output_type": "display_data"
    }
   ],
   "source": [
    "(df['category'].value_counts() / df.shape[0]).plot(kind='bar')\n",
    "# add labels\n",
    "plt.xlabel('Category')\n",
    "plt.ylabel('Percentage')\n",
    "plt.title('Category Distribution')\n"
   ]
  },
  {
   "cell_type": "markdown",
   "metadata": {},
   "source": [
    "### Authors"
   ]
  },
  {
   "cell_type": "code",
   "execution_count": 24,
   "metadata": {},
   "outputs": [
    {
     "data": {
      "text/plain": [
       "19015"
      ]
     },
     "execution_count": 24,
     "metadata": {},
     "output_type": "execute_result"
    }
   ],
   "source": [
    "# unique authors count\n",
    "len(df['authors'].unique())"
   ]
  },
  {
   "cell_type": "code",
   "execution_count": 25,
   "metadata": {},
   "outputs": [
    {
     "data": {
      "text/plain": [
       "15.43977013702698"
      ]
     },
     "execution_count": 25,
     "metadata": {},
     "output_type": "execute_result"
    }
   ],
   "source": [
    "# Number of authors with less than 10 articles\n",
    "(df['authors'].value_counts() < 10).sum() / df.shape[0] * 100"
   ]
  },
  {
   "cell_type": "code",
   "execution_count": 26,
   "metadata": {},
   "outputs": [
    {
     "data": {
      "text/plain": [
       "The Daily Meal, Contributor\\nAll things food and drink                                              180\n",
       "Laura Bassett                                                                                       175\n",
       "Christina Wilkie                                                                                    172\n",
       "Rain Embuscado                                                                                      172\n",
       "Mary Kincaid, Contributor\\nFounder and Editor of Zuburbia.com                                       170\n",
       "                                                                                                   ... \n",
       "Rick Hanson, Ph.D., Contributor\\nPsychologist; Author, 'Hardwiring Happiness'                        43\n",
       "Maureen Anderson, Contributor\\nMaureen Anderson is the host of the nationally syndicated radi...     42\n",
       "Andrew M. Seaman, Reuters                                                                            42\n",
       "Marian Wright Edelman, ContributorPresident, Children's Defense Fund                                 42\n",
       "Joseph Erdos                                                                                         42\n",
       "Name: authors, Length: 200, dtype: int64"
      ]
     },
     "execution_count": 26,
     "metadata": {},
     "output_type": "execute_result"
    }
   ],
   "source": [
    "df['authors'].value_counts()[100:300]"
   ]
  },
  {
   "cell_type": "code",
   "execution_count": 27,
   "metadata": {},
   "outputs": [
    {
     "data": {
      "text/html": [
       "<div>\n",
       "<style scoped>\n",
       "    .dataframe tbody tr th:only-of-type {\n",
       "        vertical-align: middle;\n",
       "    }\n",
       "\n",
       "    .dataframe tbody tr th {\n",
       "        vertical-align: top;\n",
       "    }\n",
       "\n",
       "    .dataframe thead th {\n",
       "        text-align: right;\n",
       "    }\n",
       "</style>\n",
       "<table border=\"1\" class=\"dataframe\">\n",
       "  <thead>\n",
       "    <tr style=\"text-align: right;\">\n",
       "      <th></th>\n",
       "      <th>link</th>\n",
       "      <th>headline</th>\n",
       "      <th>category</th>\n",
       "      <th>short_description</th>\n",
       "      <th>authors</th>\n",
       "      <th>date</th>\n",
       "      <th>day</th>\n",
       "      <th>time</th>\n",
       "    </tr>\n",
       "  </thead>\n",
       "  <tbody>\n",
       "    <tr>\n",
       "      <th>11890</th>\n",
       "      <td>https://www.huffingtonpost.com/entry/research-...</td>\n",
       "      <td>Research Finds Hysterectomy Alone Associated W...</td>\n",
       "      <td>HEALTHY LIVING</td>\n",
       "      <td>Mayo Clinic researchers show that hysterectomy...</td>\n",
       "      <td>Mayo Clinic Women's Health, ContributorOptimiz...</td>\n",
       "      <td>1970-01-01 00:25:15.024000</td>\n",
       "      <td>1970-01-01</td>\n",
       "      <td>00:25:15.024000</td>\n",
       "    </tr>\n",
       "    <tr>\n",
       "      <th>12099</th>\n",
       "      <td>https://www.huffingtonpost.com/entry/world-hea...</td>\n",
       "      <td>World Health Organization’s Junk Diagnosis For...</td>\n",
       "      <td>HEALTHY LIVING</td>\n",
       "      <td>News media reported this week that the World H...</td>\n",
       "      <td>Christopher J. Ferguson, ContributorProfessor ...</td>\n",
       "      <td>1970-01-01 00:25:14.419200</td>\n",
       "      <td>1970-01-01</td>\n",
       "      <td>00:25:14.419200</td>\n",
       "    </tr>\n",
       "    <tr>\n",
       "      <th>12297</th>\n",
       "      <td>https://www.huffingtonpost.com/entry/first-us-...</td>\n",
       "      <td>First US Baby Born After Uterus Transplantatio...</td>\n",
       "      <td>HEALTHY LIVING</td>\n",
       "      <td>A Texas woman recently gave birth to a boy, th...</td>\n",
       "      <td>Mayo Clinic Women's Health, ContributorOptimiz...</td>\n",
       "      <td>1970-01-01 00:25:13.814400</td>\n",
       "      <td>1970-01-01</td>\n",
       "      <td>00:25:13.814400</td>\n",
       "    </tr>\n",
       "    <tr>\n",
       "      <th>12429</th>\n",
       "      <td>https://www.huffingtonpost.com/entry/we-got-ar...</td>\n",
       "      <td>We Got Arrested To Show Senator Collins What W...</td>\n",
       "      <td>POLITICS</td>\n",
       "      <td>Being arrested in Collins' office didn’t scare...</td>\n",
       "      <td>Jim Betts, Sarah Bigney, Tina Marie Davidson, ...</td>\n",
       "      <td>1970-01-01 00:25:13.641600</td>\n",
       "      <td>1970-01-01</td>\n",
       "      <td>00:25:13.641600</td>\n",
       "    </tr>\n",
       "    <tr>\n",
       "      <th>12612</th>\n",
       "      <td>https://www.huffingtonpost.com/entry/as-a-phys...</td>\n",
       "      <td>As A Physician, Here's Why I Stand In Solidari...</td>\n",
       "      <td>POLITICS</td>\n",
       "      <td>Their fight must become ours as well.</td>\n",
       "      <td>Aletha Maybank, MD, MPH, ContributorDeputy Com...</td>\n",
       "      <td>1970-01-01 00:25:13.296000</td>\n",
       "      <td>1970-01-01</td>\n",
       "      <td>00:25:13.296000</td>\n",
       "    </tr>\n",
       "  </tbody>\n",
       "</table>\n",
       "</div>"
      ],
      "text/plain": [
       "                                                    link  \\\n",
       "11890  https://www.huffingtonpost.com/entry/research-...   \n",
       "12099  https://www.huffingtonpost.com/entry/world-hea...   \n",
       "12297  https://www.huffingtonpost.com/entry/first-us-...   \n",
       "12429  https://www.huffingtonpost.com/entry/we-got-ar...   \n",
       "12612  https://www.huffingtonpost.com/entry/as-a-phys...   \n",
       "\n",
       "                                                headline        category  \\\n",
       "11890  Research Finds Hysterectomy Alone Associated W...  HEALTHY LIVING   \n",
       "12099  World Health Organization’s Junk Diagnosis For...  HEALTHY LIVING   \n",
       "12297  First US Baby Born After Uterus Transplantatio...  HEALTHY LIVING   \n",
       "12429  We Got Arrested To Show Senator Collins What W...        POLITICS   \n",
       "12612  As A Physician, Here's Why I Stand In Solidari...        POLITICS   \n",
       "\n",
       "                                       short_description  \\\n",
       "11890  Mayo Clinic researchers show that hysterectomy...   \n",
       "12099  News media reported this week that the World H...   \n",
       "12297  A Texas woman recently gave birth to a boy, th...   \n",
       "12429  Being arrested in Collins' office didn’t scare...   \n",
       "12612              Their fight must become ours as well.   \n",
       "\n",
       "                                                 authors  \\\n",
       "11890  Mayo Clinic Women's Health, ContributorOptimiz...   \n",
       "12099  Christopher J. Ferguson, ContributorProfessor ...   \n",
       "12297  Mayo Clinic Women's Health, ContributorOptimiz...   \n",
       "12429  Jim Betts, Sarah Bigney, Tina Marie Davidson, ...   \n",
       "12612  Aletha Maybank, MD, MPH, ContributorDeputy Com...   \n",
       "\n",
       "                            date        day             time  \n",
       "11890 1970-01-01 00:25:15.024000 1970-01-01  00:25:15.024000  \n",
       "12099 1970-01-01 00:25:14.419200 1970-01-01  00:25:14.419200  \n",
       "12297 1970-01-01 00:25:13.814400 1970-01-01  00:25:13.814400  \n",
       "12429 1970-01-01 00:25:13.641600 1970-01-01  00:25:13.641600  \n",
       "12612 1970-01-01 00:25:13.296000 1970-01-01  00:25:13.296000  "
      ]
     },
     "execution_count": 27,
     "metadata": {},
     "output_type": "execute_result"
    }
   ],
   "source": [
    "df[df['authors'].str.len() > 100].head()\n"
   ]
  },
  {
   "cell_type": "code",
   "execution_count": 28,
   "metadata": {},
   "outputs": [
    {
     "data": {
      "text/plain": [
       "authors                category      \n",
       "Alana Horowitz Satlin  BLACK VOICES       2\n",
       "                       BUSINESS          16\n",
       "                       COMEDY             7\n",
       "                       ENTERTAINMENT     10\n",
       "                       FOOD & DRINK       0\n",
       "                                         ..\n",
       "Zeba Blay              QUEER VOICES       1\n",
       "                       SPORTS             0\n",
       "                       STYLE & BEAUTY     0\n",
       "                       TRAVEL             0\n",
       "                       WELLNESS           0\n",
       "Length: 1500, dtype: int64"
      ]
     },
     "execution_count": 28,
     "metadata": {},
     "output_type": "execute_result"
    }
   ],
   "source": [
    "# look at the relationship between authors and category\n",
    "# for top 100 authors\n",
    "# get top 100 authors\n",
    "top_100_authors = df['authors'].value_counts()[:100].index.tolist()\n",
    "# look at the distribution of categories for each of these authors\n",
    "df_top_100_authors = df[df['authors'].isin(top_100_authors)]\n",
    "df_top_100_authors.groupby(['authors', 'category']).size()"
   ]
  },
  {
   "cell_type": "code",
   "execution_count": 29,
   "metadata": {},
   "outputs": [
    {
     "data": {
      "text/plain": [
       "ENTERTAINMENT     278\n",
       "COMEDY             49\n",
       "BLACK VOICES       39\n",
       "POLITICS           23\n",
       "QUEER VOICES       20\n",
       "PARENTS            18\n",
       "HEALTHY LIVING      6\n",
       "SPORTS              4\n",
       "TRAVEL              4\n",
       "BUSINESS            1\n",
       "STYLE & BEAUTY      1\n",
       "WELLNESS            1\n",
       "FOOD & DRINK        0\n",
       "HOME & LIVING       0\n",
       "PARENTING           0\n",
       "Name: category, dtype: int64"
      ]
     },
     "execution_count": 29,
     "metadata": {},
     "output_type": "execute_result"
    }
   ],
   "source": [
    "# for Elyse Wanshel get the distribution of categories\n",
    "df[df['authors'] == 'Elyse Wanshel']['category'].value_counts()"
   ]
  },
  {
   "cell_type": "code",
   "execution_count": 30,
   "metadata": {},
   "outputs": [
    {
     "data": {
      "text/plain": [
       "<Axes: xlabel='authors'>"
      ]
     },
     "execution_count": 30,
     "metadata": {},
     "output_type": "execute_result"
    },
    {
     "data": {
      "image/png": "[encoded data removed]",
      "text/plain": [
       "<Figure size 2000x1000 with 1 Axes>"
      ]
     },
     "metadata": {},
     "output_type": "display_data"
    }
   ],
   "source": [
    "# plot the distribution of categories for top 100 authors\n",
    "df_top_100_authors.groupby(['authors', 'category']).size().unstack().plot(kind='bar', stacked=True, figsize=(20, 10))"
   ]
  },
  {
   "cell_type": "markdown",
   "metadata": {},
   "source": [
    "Insights:\n",
    "- Some authors are just names whereas others have descriptions of the author\n",
    "- Further some other authors are actually institutions rather than individuals\n",
    "- There are a lot of authors that have more than one article in the dataset - almost 90% of authors have over 10 articles\n",
    "- Author seems like it could be a useful predictor of Category\n",
    "- There is a fair amount of missing data! How to resolve this!\n"
   ]
  },
  {
   "cell_type": "markdown",
   "metadata": {},
   "source": [
    "### Link"
   ]
  },
  {
   "cell_type": "code",
   "execution_count": 31,
   "metadata": {},
   "outputs": [],
   "source": [
    "# extract the website name from the link using regex\n",
    "import re\n",
    "df['website'] = df['link'].apply(lambda x: re.findall(r'(?<=www.)[^/]+', x)[0])"
   ]
  },
  {
   "cell_type": "code",
   "execution_count": 32,
   "metadata": {},
   "outputs": [
    {
     "data": {
      "text/plain": [
       "0.001746679126311101"
      ]
     },
     "execution_count": 32,
     "metadata": {},
     "output_type": "execute_result"
    }
   ],
   "source": [
    "df['website'].unique().shape[0] / df.shape[0] * 100"
   ]
  },
  {
   "cell_type": "code",
   "execution_count": 33,
   "metadata": {},
   "outputs": [
    {
     "data": {
      "text/plain": [
       "huffingtonpost.com    109290\n",
       "huffpost.com            5213\n",
       "Name: website, dtype: int64"
      ]
     },
     "execution_count": 33,
     "metadata": {},
     "output_type": "execute_result"
    }
   ],
   "source": [
    "df['website'].value_counts()"
   ]
  },
  {
   "cell_type": "markdown",
   "metadata": {},
   "source": [
    "Insight:\n",
    "- Link is not useful all links are from huffingtonpost - should've known that :("
   ]
  },
  {
   "cell_type": "markdown",
   "metadata": {},
   "source": [
    "### Date"
   ]
  },
  {
   "cell_type": "markdown",
   "metadata": {},
   "source": [
    "Date looks a bit suspicious. All articles are from the same day and there are only 3618 unique times. Not sure if this will be a useful feature. And the data is not text format so maybe they don't want us to use for the assignment anyways. Also seems unlikely that time of day will be that useful for predicting category"
   ]
  },
  {
   "cell_type": "markdown",
   "metadata": {},
   "source": [
    "# Data Wranling"
   ]
  },
  {
   "cell_type": "code",
   "execution_count": 34,
   "metadata": {},
   "outputs": [],
   "source": [
    "# drop unnecessary features\n",
    "# no date\n",
    "df.drop(['date'], axis=1, inplace=True)\n",
    "df.drop(['day'], axis=1, inplace=True)\n",
    "df.drop(['time'], axis=1, inplace=True)\n",
    "# no link\n",
    "df.drop(['link'], axis=1, inplace=True)"
   ]
  },
  {
   "cell_type": "code",
   "execution_count": 35,
   "metadata": {},
   "outputs": [
    {
     "data": {
      "text/plain": [
       "Index(['headline', 'category', 'short_description', 'authors', 'website'], dtype='object')"
      ]
     },
     "execution_count": 35,
     "metadata": {},
     "output_type": "execute_result"
    }
   ],
   "source": [
    "df.columns"
   ]
  },
  {
   "cell_type": "markdown",
   "metadata": {},
   "source": [
    "# Preprocessing"
   ]
  },
  {
   "cell_type": "code",
   "execution_count": 36,
   "metadata": {},
   "outputs": [
    {
     "name": "stderr",
     "output_type": "stream",
     "text": [
      "[nltk_data] Downloading package punkt to\n",
      "[nltk_data]     C:\\Users\\benjo\\AppData\\Roaming\\nltk_data...\n",
      "[nltk_data]   Package punkt is already up-to-date!\n",
      "[nltk_data] Downloading package stopwords to\n",
      "[nltk_data]     C:\\Users\\benjo\\AppData\\Roaming\\nltk_data...\n",
      "[nltk_data]   Package stopwords is already up-to-date!\n",
      "[nltk_data] Downloading package wordnet to\n",
      "[nltk_data]     C:\\Users\\benjo\\AppData\\Roaming\\nltk_data...\n",
      "[nltk_data]   Package wordnet is already up-to-date!\n"
     ]
    }
   ],
   "source": [
    "import nltk\n",
    "import string\n",
    "from nltk.corpus import stopwords\n",
    "from nltk.tokenize import word_tokenize\n",
    "from nltk.stem import WordNetLemmatizer\n",
    "from nltk.stem import PorterStemmer\n",
    "\n",
    "# Download necessary resources (if not already downloaded)\n",
    "nltk.download('punkt')\n",
    "nltk.download('stopwords')\n",
    "nltk.download('wordnet')\n",
    "\n",
    "# Initialize Lemmatizer and Stemmer\n",
    "lemmatizer = WordNetLemmatizer()\n",
    "stemmer = PorterStemmer()"
   ]
  },
  {
   "cell_type": "code",
   "execution_count": 37,
   "metadata": {},
   "outputs": [],
   "source": [
    "# Function to preprocess text\n",
    "def preprocess_text(text):\n",
    "    # Tokenize the text into words\n",
    "    words = word_tokenize(text.lower())  # Convert text to lowercase\n",
    "\n",
    "    # Remove punctuation\n",
    "    table = str.maketrans('', '', string.punctuation)\n",
    "    words = [word.translate(table) for word in words if word.isalpha()]\n",
    "\n",
    "    # Remove stopwords\n",
    "    stop_words = set(stopwords.words('english'))\n",
    "    words = [word for word in words if word not in stop_words]\n",
    "\n",
    "    # Lemmatization\n",
    "    lemmatized_words = [lemmatizer.lemmatize(word) for word in words]\n",
    "    preprocessed_text = ' '.join(lemmatized_words)\n",
    "\n",
    "    # Stemming (uncomment if you want to use stemming)\n",
    "    # stemmed_words = [stemmer.stem(word) for word in words]\n",
    "    # prprocessed_text = ' '.join(stemmed_words)\n",
    "\n",
    "    return preprocessed_text"
   ]
  },
  {
   "cell_type": "code",
   "execution_count": 38,
   "metadata": {},
   "outputs": [],
   "source": [
    "# Apply the function to preprocess the text\n",
    "df['headline_clean'] = df['headline'].apply(preprocess_text)\n",
    "df['short_description_clean'] = df['short_description'].apply(preprocess_text)"
   ]
  },
  {
   "cell_type": "code",
   "execution_count": 39,
   "metadata": {},
   "outputs": [],
   "source": [
    "# pre-process authors as well\n",
    "df['authors_clean'] = df['authors'].apply(preprocess_text)"
   ]
  },
  {
   "cell_type": "code",
   "execution_count": 40,
   "metadata": {},
   "outputs": [
    {
     "data": {
      "text/plain": [
       "0    23 Of The Funniest Tweets About Cats And Dogs ...\n",
       "1    The Funniest Tweets From Parents This Week (Se...\n",
       "2    Maury Wills, Base-Stealing Shortstop For Dodge...\n",
       "5    ‘Beautiful And Sad At The Same Time’: Ukrainia...\n",
       "6    Las Vegas Aces Win First WNBA Title, Chelsea G...\n",
       "Name: headline, dtype: object"
      ]
     },
     "execution_count": 40,
     "metadata": {},
     "output_type": "execute_result"
    }
   ],
   "source": [
    "df['headline'].head()"
   ]
  },
  {
   "cell_type": "code",
   "execution_count": 41,
   "metadata": {},
   "outputs": [
    {
     "data": {
      "text/plain": [
       "0                          funniest tweet cat dog week\n",
       "1                           funniest tweet parent week\n",
       "2                       maury will shortstop dodger dy\n",
       "5    beautiful sad time ukrainian cultural festival...\n",
       "6    la vega ace win first wnba title chelsea gray ...\n",
       "Name: headline_clean, dtype: object"
      ]
     },
     "execution_count": 41,
     "metadata": {},
     "output_type": "execute_result"
    }
   ],
   "source": [
    "df['headline_clean'].head()"
   ]
  },
  {
   "cell_type": "code",
   "execution_count": 42,
   "metadata": {},
   "outputs": [
    {
     "data": {
      "text/plain": [
       "0    \"Until you have a dog you don't understand wha...\n",
       "1    \"Accidentally put grown-up toothpaste on my to...\n",
       "2    Maury Wills, who helped the Los Angeles Dodger...\n",
       "5    An annual celebration took on a different feel...\n",
       "6    Las Vegas never had a professional sports cham...\n",
       "Name: short_description, dtype: object"
      ]
     },
     "execution_count": 42,
     "metadata": {},
     "output_type": "execute_result"
    }
   ],
   "source": [
    "df['short_description'].head()"
   ]
  },
  {
   "cell_type": "code",
   "execution_count": 43,
   "metadata": {},
   "outputs": [
    {
     "data": {
      "text/plain": [
       "0                           dog understand could eaten\n",
       "1    accidentally put toothpaste toddler toothbrush...\n",
       "2    maury will helped los angeles dodger win three...\n",
       "5    annual celebration took different feel russia ...\n",
       "6     la vega never professional sport champion sunday\n",
       "Name: short_description_clean, dtype: object"
      ]
     },
     "execution_count": 43,
     "metadata": {},
     "output_type": "execute_result"
    }
   ],
   "source": [
    "df['short_description_clean'].head()"
   ]
  },
  {
   "cell_type": "code",
   "execution_count": 44,
   "metadata": {},
   "outputs": [
    {
     "data": {
      "text/plain": [
       "0         Elyse Wanshel\n",
       "1      Caroline Bologna\n",
       "2       Beth Harris, AP\n",
       "5    Jonathan Nicholson\n",
       "6    Pat Eaton-Robb, AP\n",
       "Name: authors, dtype: object"
      ]
     },
     "execution_count": 44,
     "metadata": {},
     "output_type": "execute_result"
    }
   ],
   "source": [
    "df['authors'].head()"
   ]
  },
  {
   "cell_type": "code",
   "execution_count": 45,
   "metadata": {},
   "outputs": [
    {
     "data": {
      "text/plain": [
       "0         elyse wanshel\n",
       "1      caroline bologna\n",
       "2        beth harris ap\n",
       "5    jonathan nicholson\n",
       "6                pat ap\n",
       "Name: authors_clean, dtype: object"
      ]
     },
     "execution_count": 45,
     "metadata": {},
     "output_type": "execute_result"
    }
   ],
   "source": [
    "df['authors_clean'].head()"
   ]
  },
  {
   "cell_type": "markdown",
   "metadata": {},
   "source": [
    "## Test and Training Split"
   ]
  },
  {
   "cell_type": "code",
   "execution_count": 46,
   "metadata": {},
   "outputs": [
    {
     "data": {
      "text/plain": [
       "Index(['headline', 'category', 'short_description', 'authors', 'website',\n",
       "       'headline_clean', 'short_description_clean', 'authors_clean'],\n",
       "      dtype='object')"
      ]
     },
     "execution_count": 46,
     "metadata": {},
     "output_type": "execute_result"
    }
   ],
   "source": [
    "df.columns"
   ]
  },
  {
   "cell_type": "code",
   "execution_count": 47,
   "metadata": {},
   "outputs": [],
   "source": [
    "X_train, X_test, y_train, y_test = train_test_split(df[['headline', \n",
    "                                                        'headline_clean', \n",
    "                                                        'short_description', \n",
    "                                                        'short_description_clean', \n",
    "                                                        'authors', \n",
    "                                                        'authors_clean']], \n",
    "                                                    df['category'], \n",
    "                                                    test_size=0.2, \n",
    "                                                    random_state=42\n",
    ")"
   ]
  },
  {
   "cell_type": "markdown",
   "metadata": {},
   "source": [
    "# Text Vectorisation"
   ]
  },
  {
   "cell_type": "markdown",
   "metadata": {},
   "source": [
    "### Chat-GPT which to use?"
   ]
  },
  {
   "cell_type": "markdown",
   "metadata": {},
   "source": [
    "The choice between word embeddings and TF-IDF (Term Frequency-Inverse Document Frequency) for text vectorization depends on the nature of your NLP task and the characteristics of your data. Here are some considerations for each approach:\n",
    "Word Embeddings:\n",
    "\n",
    "    Semantic Relationships:\n",
    "        Word embeddings capture semantic relationships between words. If your task involves understanding the meaning and context of words, phrases, or documents, word embeddings (such as Word2Vec, GloVe, or embeddings from pre-trained models like BERT) are often more suitable.\n",
    "\n",
    "    Contextual Information:\n",
    "        Word embeddings capture contextual information. They take into account the surrounding words in a sentence, which can be crucial for tasks like sentiment analysis, named entity recognition, and part-of-speech tagging.\n",
    "\n",
    "    Dimensionality Reduction:\n",
    "        Word embeddings usually result in lower-dimensional representations compared to TF-IDF. This can be beneficial if you have limited computational resources or if you're dealing with high-dimensional data.\n",
    "\n",
    "    Pre-trained Models:\n",
    "        If your dataset is not large enough for training high-quality embeddings, pre-trained embeddings (e.g., Word2Vec, GloVe, BERT) can be used. These embeddings are trained on massive corpora and capture rich semantic information.\n",
    "\n",
    "TF-IDF:\n",
    "\n",
    "    Bag-of-Words Representation:\n",
    "        TF-IDF is suitable when you want a simple and efficient bag-of-words representation of your documents. It ignores the order and context of words but can be effective for tasks like text classification, document clustering, or information retrieval.\n",
    "\n",
    "    Document Importance:\n",
    "        TF-IDF emphasizes the importance of words in a document relative to their frequency across the entire corpus. This can be beneficial if you want to identify key terms or features that distinguish documents from each other.\n",
    "\n",
    "    Interpretable Features:\n",
    "        TF-IDF provides easily interpretable features. Each word is represented by a weight, and these weights indicate the importance of the word in the document.\n",
    "\n",
    "    Sparse Representations:\n",
    "        TF-IDF tends to produce sparse representations, which can be advantageous if your dataset is large and you want to conserve memory.\n",
    "\n",
    "General Recommendations:\n",
    "\n",
    "    Size of the Dataset:\n",
    "        For small datasets, pre-trained word embeddings might provide better results since they have been trained on large corpora. For larger datasets, you can experiment with both approaches.\n",
    "\n",
    "    Task Requirements:\n",
    "        Consider the specific requirements of your NLP task. If semantic relationships and context are crucial, word embeddings may be more suitable. If you need a simple bag-of-words representation or want to emphasize document-level importance, TF-IDF might be appropriate.\n",
    "\n",
    "    Experimentation:\n",
    "        It's often a good idea to experiment with both approaches and evaluate their performance on your specific task. Some tasks may benefit more from one approach over the other.\n",
    "\n",
    "In practice, it's not uncommon to try both word embeddings and TF-IDF and compare their performance to determine which one works best for a particular NLP task."
   ]
  },
  {
   "cell_type": "markdown",
   "metadata": {},
   "source": [
    "Seems to suggest TF-IDF might be appropriate"
   ]
  },
  {
   "cell_type": "markdown",
   "metadata": {},
   "source": [
    "## TF-IDF Approach"
   ]
  },
  {
   "cell_type": "code",
   "execution_count": 54,
   "metadata": {},
   "outputs": [
    {
     "data": {
      "text/plain": [
       "9515      got point someone take stand owner melbourne c...\n",
       "47974     italy people willing walk half mile first thin...\n",
       "10869                                                  went\n",
       "96946     every parent child life altering disease proba...\n",
       "120819    fact joint guideline infectious disease societ...\n",
       "Name: short_description_clean, dtype: object"
      ]
     },
     "execution_count": 54,
     "metadata": {},
     "output_type": "execute_result"
    }
   ],
   "source": [
    "X_train['short_description_clean'].head()"
   ]
  },
  {
   "cell_type": "code",
   "execution_count": 55,
   "metadata": {},
   "outputs": [],
   "source": [
    "from sklearn.feature_extraction.text import TfidfVectorizer\n",
    "# Import required libraries\n",
    "# Model building: Choose and train a classifier\n",
    "vectorizer = TfidfVectorizer()  # Use TF-IDF vectorizer for text to numerical feature conversion\n"
   ]
  },
  {
   "cell_type": "code",
   "execution_count": 50,
   "metadata": {},
   "outputs": [],
   "source": [
    "#TODO: Using all features in the TF-IDF vectorizer causes issues - think about this\n",
    "# X_train_vec = vectorizer.fit_transform(X_train[['short_description_clean', 'headline_clean', 'authors_clean']])\n",
    "# X_test_vec = vectorizer.transform(X_test[['short_description_clean', 'headline_clean', 'authors_clean']])"
   ]
  },
  {
   "cell_type": "code",
   "execution_count": 51,
   "metadata": {},
   "outputs": [],
   "source": [
    "# X_train_vec = vectorizer.fit_transform(X_train['short_description_clean'])\n",
    "# X_test_vec = vectorizer.transform(X_test['short_description_clean'])"
   ]
  },
  {
   "cell_type": "code",
   "execution_count": 52,
   "metadata": {},
   "outputs": [],
   "source": [
    "# X_train_vec = vectorizer.fit_transform(X_train['headline_clean'])\n",
    "# X_test_vec = vectorizer.transform(X_test['headline_clean'])"
   ]
  },
  {
   "cell_type": "code",
   "execution_count": 53,
   "metadata": {},
   "outputs": [],
   "source": [
    "X_train_vec = vectorizer.fit_transform(X_train['authors_clean'])\n",
    "X_test_vec = vectorizer.transform(X_test['authors_clean'])"
   ]
  },
  {
   "cell_type": "code",
   "execution_count": 56,
   "metadata": {},
   "outputs": [],
   "source": [
    "# attempt to merge features\n",
    "X_train_vec = vectorizer.fit_transform(X_train['headline_clean'] + ' ' + X_train['short_description_clean'] + ' ' + X_train['authors_clean'])\n",
    "X_test_vec = vectorizer.transform(X_test['headline_clean'] + ' ' + X_test['short_description_clean'] + ' ' + X_test['authors_clean'])"
   ]
  },
  {
   "cell_type": "markdown",
   "metadata": {},
   "source": [
    "#### Basic Classification Methods"
   ]
  },
  {
   "cell_type": "markdown",
   "metadata": {},
   "source": [
    "##### Logistic Regression"
   ]
  },
  {
   "cell_type": "code",
   "execution_count": 57,
   "metadata": {},
   "outputs": [
    {
     "name": "stdout",
     "output_type": "stream",
     "text": [
      "Logistic Regression Accuracy: 0.8533688485218986\n"
     ]
    },
    {
     "name": "stderr",
     "output_type": "stream",
     "text": [
      "c:\\Users\\benjo\\AppData\\Local\\Programs\\Python\\Python310\\lib\\site-packages\\sklearn\\linear_model\\_logistic.py:460: ConvergenceWarning: lbfgs failed to converge (status=1):\n",
      "STOP: TOTAL NO. of ITERATIONS REACHED LIMIT.\n",
      "\n",
      "Increase the number of iterations (max_iter) or scale the data as shown in:\n",
      "    https://scikit-learn.org/stable/modules/preprocessing.html\n",
      "Please also refer to the documentation for alternative solver options:\n",
      "    https://scikit-learn.org/stable/modules/linear_model.html#logistic-regression\n",
      "  n_iter_i = _check_optimize_result(\n"
     ]
    }
   ],
   "source": [
    "from sklearn.linear_model import LogisticRegression\n",
    "from sklearn.metrics import accuracy_score\n",
    "\n",
    "# Logistic Regression model\n",
    "logistic_model = LogisticRegression()\n",
    "logistic_model.fit(X_train_vec, y_train)\n",
    "logistic_predictions = logistic_model.predict(X_test_vec)\n",
    "logistic_accuracy = accuracy_score(y_test, logistic_predictions)\n",
    "print(\"Logistic Regression Accuracy:\", logistic_accuracy)\n",
    "#TODO: Investgate ConvergenceWarning"
   ]
  },
  {
   "cell_type": "markdown",
   "metadata": {},
   "source": [
    "Performance:\n",
    "- 0.59 accuracy for Short-description only model\n",
    "- 0.69 accuracy for headline only model\n",
    "- 0.78 accuracy for authors only model\n",
    "- 0.85 accuracy for all features merged model\n",
    "- ~0.25 accuracy for majority classifer\n"
   ]
  },
  {
   "cell_type": "markdown",
   "metadata": {},
   "source": [
    "##### KNN"
   ]
  },
  {
   "cell_type": "code",
   "execution_count": 71,
   "metadata": {},
   "outputs": [
    {
     "name": "stdout",
     "output_type": "stream",
     "text": [
      "kNN Accuracy: 0.7695297148596131\n"
     ]
    }
   ],
   "source": [
    "# kNN model\n",
    "# TODO: cross-validation to find the best k\n",
    "from sklearn.neighbors import KNeighborsClassifier\n",
    "knn_model = KNeighborsClassifier()\n",
    "knn_model.fit(X_train_vec, y_train)\n",
    "knn_predictions = knn_model.predict(X_test_vec)\n",
    "knn_accuracy = accuracy_score(y_test, knn_predictions)\n",
    "print(\"kNN Accuracy:\", knn_accuracy)"
   ]
  },
  {
   "cell_type": "markdown",
   "metadata": {},
   "source": [
    "Performance:\n",
    "- 0.77 for all feautures merged model"
   ]
  },
  {
   "cell_type": "markdown",
   "metadata": {},
   "source": [
    "##### Naive Bayes"
   ]
  },
  {
   "cell_type": "code",
   "execution_count": 72,
   "metadata": {},
   "outputs": [
    {
     "name": "stdout",
     "output_type": "stream",
     "text": [
      "Naive Bayes Accuracy: 0.6559975546919349\n"
     ]
    }
   ],
   "source": [
    "# Naive Bayes model\n",
    "from sklearn.naive_bayes import MultinomialNB\n",
    "nb_model = MultinomialNB()\n",
    "nb_model.fit(X_train_vec, y_train)\n",
    "nb_predictions = nb_model.predict(X_test_vec)\n",
    "nb_accuracy = accuracy_score(y_test, nb_predictions)\n",
    "print(\"Naive Bayes Accuracy:\", nb_accuracy)"
   ]
  },
  {
   "cell_type": "markdown",
   "metadata": {},
   "source": [
    "Performance:\n",
    "- 0.66 for all features model"
   ]
  },
  {
   "cell_type": "markdown",
   "metadata": {},
   "source": [
    "##### SVM"
   ]
  },
  {
   "cell_type": "code",
   "execution_count": 73,
   "metadata": {},
   "outputs": [],
   "source": [
    "# SVM model\n",
    "from sklearn.svm import SVC\n",
    "svm_model = SVC() # default kernel is rbf and default C is 1.0\n",
    "# TODO: cross-validation to find the best C and kernel\n",
    "svm_model.fit(X_train_vec, y_train)\n",
    "svm_predictions = svm_model.predict(X_test_vec)\n",
    "svm_accuracy = accuracy_score(y_test, svm_predictions)\n",
    "print(\"SVM Accuracy:\", svm_accuracy)"
   ]
  },
  {
   "cell_type": "markdown",
   "metadata": {},
   "source": [
    "I gave up after 10 minutes :("
   ]
  },
  {
   "cell_type": "markdown",
   "metadata": {},
   "source": [
    "Performance:\n",
    "- for all features model"
   ]
  },
  {
   "cell_type": "markdown",
   "metadata": {},
   "source": [
    "##### Bagging"
   ]
  },
  {
   "cell_type": "markdown",
   "metadata": {},
   "source": [
    "Attempting to do Random forest (a bagging method)"
   ]
  },
  {
   "cell_type": "code",
   "execution_count": null,
   "metadata": {},
   "outputs": [],
   "source": [
    "# Random Forest model\n",
    "from sklearn.ensemble import RandomForestClassifier\n",
    "rf_model = RandomForestClassifier()\n",
    "rf_model.fit(X_train_vec, y_train)\n",
    "rf_predictions = rf_model.predict(X_test_vec)\n",
    "rf_accuracy = accuracy_score(y_test, rf_predictions)\n",
    "print(\"Random Forest Accuracy:\", rf_accuracy)"
   ]
  },
  {
   "cell_type": "markdown",
   "metadata": {},
   "source": [
    "Performance:\n",
    "- ??? for all features model"
   ]
  },
  {
   "cell_type": "markdown",
   "metadata": {},
   "source": [
    "##### Boosting"
   ]
  },
  {
   "cell_type": "markdown",
   "metadata": {},
   "source": [
    "Attempting Gradient Boosting classification (a boosting method)"
   ]
  },
  {
   "cell_type": "code",
   "execution_count": null,
   "metadata": {},
   "outputs": [],
   "source": [
    "# Gradient Boosting model\n",
    "from sklearn.ensemble import GradientBoostingClassifier\n",
    "gb_model = GradientBoostingClassifier()\n",
    "gb_model.fit(X_train_vec, y_train)\n",
    "gb_predictions = gb_model.predict(X_test_vec)\n",
    "gb_accuracy = accuracy_score(y_test, gb_predictions)\n",
    "print(\"Gradient Boosting Accuracy:\", gb_accuracy)"
   ]
  },
  {
   "cell_type": "markdown",
   "metadata": {},
   "source": [
    "Performance:\n",
    "- ??? for all features model"
   ]
  },
  {
   "cell_type": "markdown",
   "metadata": {},
   "source": [
    "##### Neural Network"
   ]
  },
  {
   "cell_type": "markdown",
   "metadata": {},
   "source": [
    "I didn't pay attention in the lab (let's see what chat has got)"
   ]
  },
  {
   "cell_type": "code",
   "execution_count": null,
   "metadata": {},
   "outputs": [],
   "source": [
    "# Neural Network model\n",
    "from sklearn.neural_network import MLPClassifier\n",
    "nn_model = MLPClassifier()\n",
    "nn_model.fit(X_train_vec, y_train)\n",
    "nn_predictions = nn_model.predict(X_test_vec)\n",
    "nn_accuracy = accuracy_score(y_test, nn_predictions)\n",
    "print(\"Neural Network Accuracy:\", nn_accuracy)"
   ]
  },
  {
   "cell_type": "markdown",
   "metadata": {},
   "source": [
    "Performance:\n",
    "- ??? all features model"
   ]
  },
  {
   "cell_type": "markdown",
   "metadata": {},
   "source": [
    "## Word Embeddings Approach"
   ]
  }
 ],
 "metadata": {
  "kernelspec": {
   "display_name": "Python 3",
   "language": "python",
   "name": "python3"
  },
  "language_info": {
   "codemirror_mode": {
    "name": "ipython",
    "version": 3
   },
   "file_extension": ".py",
   "mimetype": "text/x-python",
   "name": "python",
   "nbconvert_exporter": "python",
   "pygments_lexer": "ipython3",
   "version": "3.10.8"
  }
 },
 "nbformat": 4,
 "nbformat_minor": 2
}
